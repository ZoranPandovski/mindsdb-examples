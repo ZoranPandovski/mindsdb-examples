{
 "cells": [
  {
   "cell_type": "code",
   "execution_count": 6,
   "metadata": {},
   "outputs": [
    {
     "name": "stderr",
     "output_type": "stream",
     "text": [
      "\u001b[32mINFO:mindsdb-logger-a7ecf5e8-aa4c-11e9-848c-f0d5bfaec0a9:libs/phases/base_module.py:52 - '[START] DataExtractor'\u001b[0m\n",
      "\u001b[32mINFO:mindsdb-logger-a7ecf5e8-aa4c-11e9-848c-f0d5bfaec0a9:libs/phases/data_extractor/data_extractor.py:232 - 'We have split the input data into:'\u001b[0m\n",
      "\u001b[32mINFO:mindsdb-logger-a7ecf5e8-aa4c-11e9-848c-f0d5bfaec0a9:libs/phases/base_module.py:57 - '[END] DataExtractor, execution time: 0.148 seconds'\u001b[0m\n",
      "\u001b[32mINFO:mindsdb-logger-a7ecf5e8-aa4c-11e9-848c-f0d5bfaec0a9:libs/phases/base_module.py:52 - '[START] StatsGenerator'\u001b[0m\n",
      "\u001b[32mINFO:mindsdb-logger-a7ecf5e8-aa4c-11e9-848c-f0d5bfaec0a9:libs/phases/stats_generator/stats_generator.py:484 - 'population_size=376,  sample_size=376  100.00%'\u001b[0m\n",
      "\u001b[33mWARNING:mindsdb-logger-a7ecf5e8-aa4c-11e9-848c-f0d5bfaec0a9:libs/phases/stats_generator/stats_generator.py:384 - ('The data in the column number_of_rooms seems to have too contain too much '\n",
      " 'noise/randomness based on the value variability. That is too say, the data '\n",
      " 'is too unevenly distributed and has too many outliers. Please see the '\n",
      " 'detailed logs bellow for more info.')\u001b[0m\n",
      "\u001b[32mINFO:mindsdb-logger-a7ecf5e8-aa4c-11e9-848c-f0d5bfaec0a9:libs/phases/stats_generator/stats_generator.py:452 - 'Data distribution for column \"number_of_rooms\"'\u001b[0m\n",
      "\u001b[32mINFO:mindsdb-logger-a7ecf5e8-aa4c-11e9-848c-f0d5bfaec0a9:libs/data_types/mindsdb_logger.py:75 - '----------'\u001b[0m\n",
      "\u001b[33mWARNING:mindsdb-logger-core-logger:libs/helpers/general_helpers.py:134 - 'could not check for MindsDB updates'\u001b[0m\n",
      "\u001b[32mINFO:mindsdb-logger-a7ecf5e8-aa4c-11e9-848c-f0d5bfaec0a9:libs/data_types/mindsdb_logger.py:118 - ' Category: 376'\u001b[0m\n",
      "\u001b[32mINFO:mindsdb-logger-a7ecf5e8-aa4c-11e9-848c-f0d5bfaec0a9:libs/data_types/mindsdb_logger.py:122 - '----------'\u001b[0m\n",
      "\u001b[33mWARNING:mindsdb-logger-a7ecf5e8-aa4c-11e9-848c-f0d5bfaec0a9:libs/phases/stats_generator/stats_generator.py:384 - ('The data in the column number_of_bathrooms seems to have too contain too '\n",
      " 'much noise/randomness based on the value variability. That is too say, the '\n",
      " 'data is too unevenly distributed and has too many outliers. Please see the '\n",
      " 'detailed logs bellow for more info.')\u001b[0m\n",
      "\u001b[33mWARNING:mindsdb-logger-a7ecf5e8-aa4c-11e9-848c-f0d5bfaec0a9:libs/phases/stats_generator/stats_generator.py:429 - ('Column number_of_bathrooms is very biased towards the value 1, please make '\n",
      " 'sure that the data in this column is correct !')\u001b[0m\n",
      "\u001b[32mINFO:mindsdb-logger-a7ecf5e8-aa4c-11e9-848c-f0d5bfaec0a9:libs/phases/stats_generator/stats_generator.py:452 - 'Data distribution for column \"number_of_bathrooms\"'\u001b[0m\n",
      "\u001b[32mINFO:mindsdb-logger-a7ecf5e8-aa4c-11e9-848c-f0d5bfaec0a9:libs/data_types/mindsdb_logger.py:75 - '----------'\u001b[0m\n",
      "\u001b[32mINFO:mindsdb-logger-a7ecf5e8-aa4c-11e9-848c-f0d5bfaec0a9:libs/data_types/mindsdb_logger.py:118 - ' Binary Category: 376'\u001b[0m\n",
      "\u001b[32mINFO:mindsdb-logger-a7ecf5e8-aa4c-11e9-848c-f0d5bfaec0a9:libs/data_types/mindsdb_logger.py:122 - '----------'\u001b[0m\n",
      "\u001b[33mWARNING:mindsdb-logger-a7ecf5e8-aa4c-11e9-848c-f0d5bfaec0a9:libs/phases/stats_generator/stats_generator.py:429 - ('Column sqft is very biased towards the value 884.46, please make sure that '\n",
      " 'the data in this column is correct !')\u001b[0m\n",
      "\u001b[32mINFO:mindsdb-logger-a7ecf5e8-aa4c-11e9-848c-f0d5bfaec0a9:libs/phases/stats_generator/stats_generator.py:452 - 'Data distribution for column \"sqft\"'\u001b[0m\n",
      "\u001b[32mINFO:mindsdb-logger-a7ecf5e8-aa4c-11e9-848c-f0d5bfaec0a9:libs/data_types/mindsdb_logger.py:75 - '----------'\u001b[0m\n",
      "\u001b[32mINFO:mindsdb-logger-a7ecf5e8-aa4c-11e9-848c-f0d5bfaec0a9:libs/data_types/mindsdb_logger.py:118 - ' Int: 376'\u001b[0m\n",
      "\u001b[32mINFO:mindsdb-logger-a7ecf5e8-aa4c-11e9-848c-f0d5bfaec0a9:libs/data_types/mindsdb_logger.py:122 - '----------'\u001b[0m\n",
      "\u001b[33mWARNING:mindsdb-logger-a7ecf5e8-aa4c-11e9-848c-f0d5bfaec0a9:libs/phases/stats_generator/stats_generator.py:384 - ('The data in the column location seems to have too contain too much '\n",
      " 'noise/randomness based on the value variability. That is too say, the data '\n",
      " 'is too unevenly distributed and has too many outliers. Please see the '\n",
      " 'detailed logs bellow for more info.')\u001b[0m\n",
      "\u001b[33mWARNING:mindsdb-logger-a7ecf5e8-aa4c-11e9-848c-f0d5bfaec0a9:libs/phases/stats_generator/stats_generator.py:429 - ('Column location is very biased towards the value good, please make sure that '\n",
      " 'the data in this column is correct !')\u001b[0m\n",
      "\u001b[32mINFO:mindsdb-logger-a7ecf5e8-aa4c-11e9-848c-f0d5bfaec0a9:libs/phases/stats_generator/stats_generator.py:452 - 'Data distribution for column \"location\"'\u001b[0m\n",
      "\u001b[32mINFO:mindsdb-logger-a7ecf5e8-aa4c-11e9-848c-f0d5bfaec0a9:libs/data_types/mindsdb_logger.py:75 - '----------'\u001b[0m\n",
      "\u001b[32mINFO:mindsdb-logger-a7ecf5e8-aa4c-11e9-848c-f0d5bfaec0a9:libs/data_types/mindsdb_logger.py:118 - ' Category: 376'\u001b[0m\n",
      "\u001b[32mINFO:mindsdb-logger-a7ecf5e8-aa4c-11e9-848c-f0d5bfaec0a9:libs/data_types/mindsdb_logger.py:122 - '----------'\u001b[0m\n",
      "\u001b[33mWARNING:mindsdb-logger-a7ecf5e8-aa4c-11e9-848c-f0d5bfaec0a9:libs/phases/stats_generator/stats_generator.py:429 - ('Column days_on_market is very biased towards the value 9.600000000000001, '\n",
      " 'please make sure that the data in this column is correct !')\u001b[0m\n",
      "\u001b[32mINFO:mindsdb-logger-a7ecf5e8-aa4c-11e9-848c-f0d5bfaec0a9:libs/phases/stats_generator/stats_generator.py:452 - 'Data distribution for column \"days_on_market\"'\u001b[0m\n",
      "\u001b[32mINFO:mindsdb-logger-a7ecf5e8-aa4c-11e9-848c-f0d5bfaec0a9:libs/data_types/mindsdb_logger.py:75 - '----------'\u001b[0m\n",
      "\u001b[32mINFO:mindsdb-logger-a7ecf5e8-aa4c-11e9-848c-f0d5bfaec0a9:libs/data_types/mindsdb_logger.py:118 - ' Int: 376'\u001b[0m\n",
      "\u001b[32mINFO:mindsdb-logger-a7ecf5e8-aa4c-11e9-848c-f0d5bfaec0a9:libs/data_types/mindsdb_logger.py:122 - '----------'\u001b[0m\n",
      "\u001b[33mWARNING:mindsdb-logger-a7ecf5e8-aa4c-11e9-848c-f0d5bfaec0a9:libs/phases/stats_generator/stats_generator.py:377 - ('The data in the column initial_price is likely somewhat redundant, any '\n",
      " 'insight it can give us can already by deduced from your other columns. '\n",
      " 'Please see the detailed logs bellow for more info')\u001b[0m\n",
      "\u001b[33mWARNING:mindsdb-logger-a7ecf5e8-aa4c-11e9-848c-f0d5bfaec0a9:libs/phases/stats_generator/stats_generator.py:429 - ('Column initial_price is very biased towards the value 1886.27, please make '\n",
      " 'sure that the data in this column is correct !')\u001b[0m\n",
      "\u001b[33mWARNING:mindsdb-logger-a7ecf5e8-aa4c-11e9-848c-f0d5bfaec0a9:libs/phases/stats_generator/stats_generator.py:438 - ('Column initial_price and rental_price are 72.6063829787234% the same, please '\n",
      " 'make sure these represent two distinct features of your data !')\u001b[0m\n",
      "\u001b[32mINFO:mindsdb-logger-a7ecf5e8-aa4c-11e9-848c-f0d5bfaec0a9:libs/phases/stats_generator/stats_generator.py:452 - 'Data distribution for column \"initial_price\"'\u001b[0m\n",
      "\u001b[32mINFO:mindsdb-logger-a7ecf5e8-aa4c-11e9-848c-f0d5bfaec0a9:libs/data_types/mindsdb_logger.py:75 - '----------'\u001b[0m\n",
      "\u001b[32mINFO:mindsdb-logger-a7ecf5e8-aa4c-11e9-848c-f0d5bfaec0a9:libs/data_types/mindsdb_logger.py:118 - ' Int: 376'\u001b[0m\n",
      "\u001b[32mINFO:mindsdb-logger-a7ecf5e8-aa4c-11e9-848c-f0d5bfaec0a9:libs/data_types/mindsdb_logger.py:122 - '----------'\u001b[0m\n",
      "\u001b[33mWARNING:mindsdb-logger-a7ecf5e8-aa4c-11e9-848c-f0d5bfaec0a9:libs/phases/stats_generator/stats_generator.py:384 - ('The data in the column neighborhood seems to have too contain too much '\n",
      " 'noise/randomness based on the value variability. That is too say, the data '\n",
      " 'is too unevenly distributed and has too many outliers. Please see the '\n",
      " 'detailed logs bellow for more info.')\u001b[0m\n",
      "\u001b[33mWARNING:mindsdb-logger-a7ecf5e8-aa4c-11e9-848c-f0d5bfaec0a9:libs/phases/stats_generator/stats_generator.py:429 - ('Column neighborhood is very biased towards the value downtown, please make '\n",
      " 'sure that the data in this column is correct !')\u001b[0m\n",
      "\u001b[32mINFO:mindsdb-logger-a7ecf5e8-aa4c-11e9-848c-f0d5bfaec0a9:libs/phases/stats_generator/stats_generator.py:452 - 'Data distribution for column \"neighborhood\"'\u001b[0m\n",
      "\u001b[32mINFO:mindsdb-logger-a7ecf5e8-aa4c-11e9-848c-f0d5bfaec0a9:libs/data_types/mindsdb_logger.py:75 - '----------'\u001b[0m\n",
      "\u001b[32mINFO:mindsdb-logger-a7ecf5e8-aa4c-11e9-848c-f0d5bfaec0a9:libs/data_types/mindsdb_logger.py:118 - ' Category: 376'\u001b[0m\n",
      "\u001b[32mINFO:mindsdb-logger-a7ecf5e8-aa4c-11e9-848c-f0d5bfaec0a9:libs/data_types/mindsdb_logger.py:122 - '----------'\u001b[0m\n",
      "\u001b[33mWARNING:mindsdb-logger-a7ecf5e8-aa4c-11e9-848c-f0d5bfaec0a9:libs/phases/stats_generator/stats_generator.py:377 - ('The data in the column rental_price is likely somewhat redundant, any '\n",
      " 'insight it can give us can already by deduced from your other columns. '\n",
      " 'Please see the detailed logs bellow for more info')\u001b[0m\n"
     ]
    },
    {
     "name": "stderr",
     "output_type": "stream",
     "text": [
      "\u001b[33mWARNING:mindsdb-logger-a7ecf5e8-aa4c-11e9-848c-f0d5bfaec0a9:libs/phases/stats_generator/stats_generator.py:429 - ('Column rental_price is very biased towards the value 1826.47806, please make '\n",
      " 'sure that the data in this column is correct !')\u001b[0m\n",
      "\u001b[33mWARNING:mindsdb-logger-a7ecf5e8-aa4c-11e9-848c-f0d5bfaec0a9:libs/phases/stats_generator/stats_generator.py:438 - ('Column rental_price and initial_price are 72.6063829787234% the same, please '\n",
      " 'make sure these represent two distinct features of your data !')\u001b[0m\n",
      "\u001b[32mINFO:mindsdb-logger-a7ecf5e8-aa4c-11e9-848c-f0d5bfaec0a9:libs/phases/stats_generator/stats_generator.py:452 - 'Data distribution for column \"rental_price\"'\u001b[0m\n",
      "\u001b[32mINFO:mindsdb-logger-a7ecf5e8-aa4c-11e9-848c-f0d5bfaec0a9:libs/data_types/mindsdb_logger.py:75 - '----------'\u001b[0m\n",
      "\u001b[32mINFO:mindsdb-logger-a7ecf5e8-aa4c-11e9-848c-f0d5bfaec0a9:libs/data_types/mindsdb_logger.py:118 - '   Int: 274'\u001b[0m\n",
      "\u001b[32mINFO:mindsdb-logger-a7ecf5e8-aa4c-11e9-848c-f0d5bfaec0a9:libs/data_types/mindsdb_logger.py:118 - ' Float: 102'\u001b[0m\n",
      "\u001b[32mINFO:mindsdb-logger-a7ecf5e8-aa4c-11e9-848c-f0d5bfaec0a9:libs/data_types/mindsdb_logger.py:122 - '----------'\u001b[0m\n",
      "\u001b[32mINFO:mindsdb-logger-a7ecf5e8-aa4c-11e9-848c-f0d5bfaec0a9:libs/phases/base_module.py:57 - '[END] StatsGenerator, execution time: 2.884 seconds'\u001b[0m\n",
      "\u001b[32mINFO:mindsdb-logger-a7ecf5e8-aa4c-11e9-848c-f0d5bfaec0a9:libs/phases/base_module.py:52 - '[START] DataTransformer'\u001b[0m\n",
      "\u001b[32mINFO:mindsdb-logger-a7ecf5e8-aa4c-11e9-848c-f0d5bfaec0a9:libs/phases/base_module.py:57 - '[END] DataTransformer, execution time: 0.190 seconds'\u001b[0m\n",
      "\u001b[32mINFO:mindsdb-logger-a7ecf5e8-aa4c-11e9-848c-f0d5bfaec0a9:libs/phases/base_module.py:52 - '[START] ModelInterface'\u001b[0m\n"
     ]
    },
    {
     "name": "stdout",
     "output_type": "stream",
     "text": [
      "Can't disable output on Jupyter notebook\n",
      "Can't disable output on Jupyter notebook\n"
     ]
    },
    {
     "name": "stderr",
     "output_type": "stream",
     "text": [
      "/home/zoran/MyProjects/mindsdb-examples/mindsdb/lib/python3.7/site-packages/ludwig/features/numerical_feature.py:63: FutureWarning: Method .as_matrix will be removed in a future version. Use .values instead.\n",
      "  np.float32).as_matrix()\n",
      "\u001b[32mINFO:mindsdb-logger-a7ecf5e8-aa4c-11e9-848c-f0d5bfaec0a9:libs/phases/base_module.py:57 - '[END] ModelInterface, execution time: 10.954 seconds'\u001b[0m\n",
      "\u001b[32mINFO:mindsdb-logger-a7ecf5e8-aa4c-11e9-848c-f0d5bfaec0a9:libs/phases/base_module.py:52 - '[START] ModelAnalyzer'\u001b[0m\n"
     ]
    },
    {
     "name": "stdout",
     "output_type": "stream",
     "text": [
      "Can't disable output on Jupyter notebook\n",
      "Can't disable output on Jupyter notebook\n",
      "Can't disable output on Jupyter notebook\n",
      "INFO:tensorflow:Restoring parameters from /home/zoran/MyProjects/mindsdb-examples/mindsdb/lib/python3.7/site-packages/mindsdb_storage/1_2_9/home_rentals_ludwig_data/model/model_weights\n"
     ]
    },
    {
     "name": "stderr",
     "output_type": "stream",
     "text": [
      "INFO:tensorflow:Restoring parameters from /home/zoran/MyProjects/mindsdb-examples/mindsdb/lib/python3.7/site-packages/mindsdb_storage/1_2_9/home_rentals_ludwig_data/model/model_weights\n"
     ]
    },
    {
     "name": "stdout",
     "output_type": "stream",
     "text": [
      "Can't disable output on Jupyter notebook\n",
      "Can't disable output on Jupyter notebook\n",
      "Can't disable output on Jupyter notebook\n",
      "INFO:tensorflow:Restoring parameters from /home/zoran/MyProjects/mindsdb-examples/mindsdb/lib/python3.7/site-packages/mindsdb_storage/1_2_9/home_rentals_ludwig_data/model/model_weights\n"
     ]
    },
    {
     "name": "stderr",
     "output_type": "stream",
     "text": [
      "INFO:tensorflow:Restoring parameters from /home/zoran/MyProjects/mindsdb-examples/mindsdb/lib/python3.7/site-packages/mindsdb_storage/1_2_9/home_rentals_ludwig_data/model/model_weights\n"
     ]
    },
    {
     "name": "stdout",
     "output_type": "stream",
     "text": [
      "Can't disable output on Jupyter notebook\n",
      "Can't disable output on Jupyter notebook\n",
      "Can't disable output on Jupyter notebook\n",
      "INFO:tensorflow:Restoring parameters from /home/zoran/MyProjects/mindsdb-examples/mindsdb/lib/python3.7/site-packages/mindsdb_storage/1_2_9/home_rentals_ludwig_data/model/model_weights\n"
     ]
    },
    {
     "name": "stderr",
     "output_type": "stream",
     "text": [
      "INFO:tensorflow:Restoring parameters from /home/zoran/MyProjects/mindsdb-examples/mindsdb/lib/python3.7/site-packages/mindsdb_storage/1_2_9/home_rentals_ludwig_data/model/model_weights\n"
     ]
    },
    {
     "name": "stdout",
     "output_type": "stream",
     "text": [
      "Can't disable output on Jupyter notebook\n",
      "Can't disable output on Jupyter notebook\n",
      "Can't disable output on Jupyter notebook\n",
      "INFO:tensorflow:Restoring parameters from /home/zoran/MyProjects/mindsdb-examples/mindsdb/lib/python3.7/site-packages/mindsdb_storage/1_2_9/home_rentals_ludwig_data/model/model_weights\n"
     ]
    },
    {
     "name": "stderr",
     "output_type": "stream",
     "text": [
      "INFO:tensorflow:Restoring parameters from /home/zoran/MyProjects/mindsdb-examples/mindsdb/lib/python3.7/site-packages/mindsdb_storage/1_2_9/home_rentals_ludwig_data/model/model_weights\n"
     ]
    },
    {
     "name": "stdout",
     "output_type": "stream",
     "text": [
      "Can't disable output on Jupyter notebook\n",
      "Can't disable output on Jupyter notebook\n",
      "Can't disable output on Jupyter notebook\n",
      "INFO:tensorflow:Restoring parameters from /home/zoran/MyProjects/mindsdb-examples/mindsdb/lib/python3.7/site-packages/mindsdb_storage/1_2_9/home_rentals_ludwig_data/model/model_weights\n"
     ]
    },
    {
     "name": "stderr",
     "output_type": "stream",
     "text": [
      "INFO:tensorflow:Restoring parameters from /home/zoran/MyProjects/mindsdb-examples/mindsdb/lib/python3.7/site-packages/mindsdb_storage/1_2_9/home_rentals_ludwig_data/model/model_weights\n"
     ]
    },
    {
     "name": "stdout",
     "output_type": "stream",
     "text": [
      "Can't disable output on Jupyter notebook\n",
      "Can't disable output on Jupyter notebook\n",
      "Can't disable output on Jupyter notebook\n",
      "INFO:tensorflow:Restoring parameters from /home/zoran/MyProjects/mindsdb-examples/mindsdb/lib/python3.7/site-packages/mindsdb_storage/1_2_9/home_rentals_ludwig_data/model/model_weights\n"
     ]
    },
    {
     "name": "stderr",
     "output_type": "stream",
     "text": [
      "INFO:tensorflow:Restoring parameters from /home/zoran/MyProjects/mindsdb-examples/mindsdb/lib/python3.7/site-packages/mindsdb_storage/1_2_9/home_rentals_ludwig_data/model/model_weights\n"
     ]
    },
    {
     "name": "stdout",
     "output_type": "stream",
     "text": [
      "Can't disable output on Jupyter notebook\n",
      "Can't disable output on Jupyter notebook\n",
      "Can't disable output on Jupyter notebook\n",
      "INFO:tensorflow:Restoring parameters from /home/zoran/MyProjects/mindsdb-examples/mindsdb/lib/python3.7/site-packages/mindsdb_storage/1_2_9/home_rentals_ludwig_data/model/model_weights\n"
     ]
    },
    {
     "name": "stderr",
     "output_type": "stream",
     "text": [
      "INFO:tensorflow:Restoring parameters from /home/zoran/MyProjects/mindsdb-examples/mindsdb/lib/python3.7/site-packages/mindsdb_storage/1_2_9/home_rentals_ludwig_data/model/model_weights\n"
     ]
    },
    {
     "name": "stdout",
     "output_type": "stream",
     "text": [
      "Can't disable output on Jupyter notebook\n",
      "Can't disable output on Jupyter notebook\n",
      "Can't disable output on Jupyter notebook\n",
      "INFO:tensorflow:Restoring parameters from /home/zoran/MyProjects/mindsdb-examples/mindsdb/lib/python3.7/site-packages/mindsdb_storage/1_2_9/home_rentals_ludwig_data/model/model_weights\n"
     ]
    },
    {
     "name": "stderr",
     "output_type": "stream",
     "text": [
      "INFO:tensorflow:Restoring parameters from /home/zoran/MyProjects/mindsdb-examples/mindsdb/lib/python3.7/site-packages/mindsdb_storage/1_2_9/home_rentals_ludwig_data/model/model_weights\n"
     ]
    },
    {
     "name": "stdout",
     "output_type": "stream",
     "text": [
      "Can't disable output on Jupyter notebook\n",
      "Can't disable output on Jupyter notebook\n",
      "Can't disable output on Jupyter notebook\n",
      "INFO:tensorflow:Restoring parameters from /home/zoran/MyProjects/mindsdb-examples/mindsdb/lib/python3.7/site-packages/mindsdb_storage/1_2_9/home_rentals_ludwig_data/model/model_weights\n"
     ]
    },
    {
     "name": "stderr",
     "output_type": "stream",
     "text": [
      "INFO:tensorflow:Restoring parameters from /home/zoran/MyProjects/mindsdb-examples/mindsdb/lib/python3.7/site-packages/mindsdb_storage/1_2_9/home_rentals_ludwig_data/model/model_weights\n"
     ]
    },
    {
     "name": "stdout",
     "output_type": "stream",
     "text": [
      "Can't disable output on Jupyter notebook\n",
      "Can't disable output on Jupyter notebook\n",
      "Can't disable output on Jupyter notebook\n",
      "INFO:tensorflow:Restoring parameters from /home/zoran/MyProjects/mindsdb-examples/mindsdb/lib/python3.7/site-packages/mindsdb_storage/1_2_9/home_rentals_ludwig_data/model/model_weights\n"
     ]
    },
    {
     "name": "stderr",
     "output_type": "stream",
     "text": [
      "INFO:tensorflow:Restoring parameters from /home/zoran/MyProjects/mindsdb-examples/mindsdb/lib/python3.7/site-packages/mindsdb_storage/1_2_9/home_rentals_ludwig_data/model/model_weights\n"
     ]
    },
    {
     "name": "stdout",
     "output_type": "stream",
     "text": [
      "Can't disable output on Jupyter notebook\n",
      "Can't disable output on Jupyter notebook\n",
      "Can't disable output on Jupyter notebook\n",
      "INFO:tensorflow:Restoring parameters from /home/zoran/MyProjects/mindsdb-examples/mindsdb/lib/python3.7/site-packages/mindsdb_storage/1_2_9/home_rentals_ludwig_data/model/model_weights\n"
     ]
    },
    {
     "name": "stderr",
     "output_type": "stream",
     "text": [
      "INFO:tensorflow:Restoring parameters from /home/zoran/MyProjects/mindsdb-examples/mindsdb/lib/python3.7/site-packages/mindsdb_storage/1_2_9/home_rentals_ludwig_data/model/model_weights\n"
     ]
    },
    {
     "name": "stdout",
     "output_type": "stream",
     "text": [
      "Can't disable output on Jupyter notebook\n",
      "Can't disable output on Jupyter notebook\n",
      "Can't disable output on Jupyter notebook\n",
      "INFO:tensorflow:Restoring parameters from /home/zoran/MyProjects/mindsdb-examples/mindsdb/lib/python3.7/site-packages/mindsdb_storage/1_2_9/home_rentals_ludwig_data/model/model_weights\n"
     ]
    },
    {
     "name": "stderr",
     "output_type": "stream",
     "text": [
      "INFO:tensorflow:Restoring parameters from /home/zoran/MyProjects/mindsdb-examples/mindsdb/lib/python3.7/site-packages/mindsdb_storage/1_2_9/home_rentals_ludwig_data/model/model_weights\n"
     ]
    },
    {
     "name": "stdout",
     "output_type": "stream",
     "text": [
      "Can't disable output on Jupyter notebook\n",
      "Can't disable output on Jupyter notebook\n",
      "Can't disable output on Jupyter notebook\n",
      "INFO:tensorflow:Restoring parameters from /home/zoran/MyProjects/mindsdb-examples/mindsdb/lib/python3.7/site-packages/mindsdb_storage/1_2_9/home_rentals_ludwig_data/model/model_weights\n"
     ]
    },
    {
     "name": "stderr",
     "output_type": "stream",
     "text": [
      "INFO:tensorflow:Restoring parameters from /home/zoran/MyProjects/mindsdb-examples/mindsdb/lib/python3.7/site-packages/mindsdb_storage/1_2_9/home_rentals_ludwig_data/model/model_weights\n"
     ]
    },
    {
     "name": "stdout",
     "output_type": "stream",
     "text": [
      "Can't disable output on Jupyter notebook\n",
      "Can't disable output on Jupyter notebook\n",
      "Can't disable output on Jupyter notebook\n",
      "INFO:tensorflow:Restoring parameters from /home/zoran/MyProjects/mindsdb-examples/mindsdb/lib/python3.7/site-packages/mindsdb_storage/1_2_9/home_rentals_ludwig_data/model/model_weights\n"
     ]
    },
    {
     "name": "stderr",
     "output_type": "stream",
     "text": [
      "INFO:tensorflow:Restoring parameters from /home/zoran/MyProjects/mindsdb-examples/mindsdb/lib/python3.7/site-packages/mindsdb_storage/1_2_9/home_rentals_ludwig_data/model/model_weights\n"
     ]
    },
    {
     "name": "stdout",
     "output_type": "stream",
     "text": [
      "Can't disable output on Jupyter notebook\n",
      "Can't disable output on Jupyter notebook\n",
      "Can't disable output on Jupyter notebook\n",
      "INFO:tensorflow:Restoring parameters from /home/zoran/MyProjects/mindsdb-examples/mindsdb/lib/python3.7/site-packages/mindsdb_storage/1_2_9/home_rentals_ludwig_data/model/model_weights\n"
     ]
    },
    {
     "name": "stderr",
     "output_type": "stream",
     "text": [
      "INFO:tensorflow:Restoring parameters from /home/zoran/MyProjects/mindsdb-examples/mindsdb/lib/python3.7/site-packages/mindsdb_storage/1_2_9/home_rentals_ludwig_data/model/model_weights\n"
     ]
    },
    {
     "name": "stdout",
     "output_type": "stream",
     "text": [
      "Can't disable output on Jupyter notebook\n",
      "Can't disable output on Jupyter notebook\n",
      "Can't disable output on Jupyter notebook\n",
      "Can't disable output on Jupyter notebook\n",
      "Can't disable output on Jupyter notebook\n",
      "Can't disable output on Jupyter notebook\n"
     ]
    },
    {
     "name": "stderr",
     "output_type": "stream",
     "text": [
      "/home/zoran/MyProjects/mindsdb-examples/mindsdb/lib/python3.7/site-packages/scipy/stats/stats.py:2315: RuntimeWarning: invalid value encountered in true_divide\n",
      "  return (a - mns) / sstd\n",
      "/home/zoran/MyProjects/mindsdb-examples/mindsdb/lib/python3.7/site-packages/sklearn/neighbors/lof.py:253: UserWarning: n_neighbors (20) is greater than the total number of samples (1). n_neighbors will be set to (n_samples - 1) for estimation.\n",
      "  % (self.n_neighbors, n_samples))\n"
     ]
    },
    {
     "name": "stdout",
     "output_type": "stream",
     "text": [
      "Can't disable output on Jupyter notebook\n",
      "Can't disable output on Jupyter notebook\n",
      "Can't disable output on Jupyter notebook\n"
     ]
    },
    {
     "name": "stderr",
     "output_type": "stream",
     "text": [
      "/home/zoran/MyProjects/mindsdb-examples/mindsdb/lib/python3.7/site-packages/sklearn/neighbors/lof.py:253: UserWarning: n_neighbors (20) is greater than the total number of samples (3). n_neighbors will be set to (n_samples - 1) for estimation.\n",
      "  % (self.n_neighbors, n_samples))\n",
      "/home/zoran/MyProjects/mindsdb-examples/mindsdb/lib/python3.7/site-packages/scipy/stats/stats.py:2315: RuntimeWarning: invalid value encountered in true_divide\n",
      "  return (a - mns) / sstd\n",
      "/home/zoran/MyProjects/mindsdb-examples/mindsdb/lib/python3.7/site-packages/sklearn/neighbors/lof.py:253: UserWarning: n_neighbors (20) is greater than the total number of samples (3). n_neighbors will be set to (n_samples - 1) for estimation.\n",
      "  % (self.n_neighbors, n_samples))\n",
      "/home/zoran/MyProjects/mindsdb-examples/mindsdb/lib/python3.7/site-packages/sklearn/neighbors/lof.py:253: UserWarning: n_neighbors (20) is greater than the total number of samples (3). n_neighbors will be set to (n_samples - 1) for estimation.\n",
      "  % (self.n_neighbors, n_samples))\n",
      "/home/zoran/MyProjects/mindsdb-examples/mindsdb/lib/python3.7/site-packages/sklearn/neighbors/lof.py:253: UserWarning: n_neighbors (20) is greater than the total number of samples (3). n_neighbors will be set to (n_samples - 1) for estimation.\n",
      "  % (self.n_neighbors, n_samples))\n",
      "/home/zoran/MyProjects/mindsdb-examples/mindsdb/lib/python3.7/site-packages/sklearn/neighbors/lof.py:253: UserWarning: n_neighbors (20) is greater than the total number of samples (3). n_neighbors will be set to (n_samples - 1) for estimation.\n",
      "  % (self.n_neighbors, n_samples))\n",
      "/home/zoran/MyProjects/mindsdb-examples/mindsdb/lib/python3.7/site-packages/sklearn/neighbors/lof.py:253: UserWarning: n_neighbors (20) is greater than the total number of samples (3). n_neighbors will be set to (n_samples - 1) for estimation.\n",
      "  % (self.n_neighbors, n_samples))\n"
     ]
    },
    {
     "name": "stdout",
     "output_type": "stream",
     "text": [
      "Can't disable output on Jupyter notebook\n",
      "Can't disable output on Jupyter notebook\n",
      "Can't disable output on Jupyter notebook\n"
     ]
    },
    {
     "name": "stderr",
     "output_type": "stream",
     "text": [
      "/home/zoran/MyProjects/mindsdb-examples/mindsdb/lib/python3.7/site-packages/scipy/stats/stats.py:2315: RuntimeWarning: invalid value encountered in true_divide\n",
      "  return (a - mns) / sstd\n",
      "/home/zoran/MyProjects/mindsdb-examples/mindsdb/lib/python3.7/site-packages/sklearn/neighbors/lof.py:253: UserWarning: n_neighbors (20) is greater than the total number of samples (3). n_neighbors will be set to (n_samples - 1) for estimation.\n",
      "  % (self.n_neighbors, n_samples))\n",
      "/home/zoran/MyProjects/mindsdb-examples/mindsdb/lib/python3.7/site-packages/scipy/stats/stats.py:2315: RuntimeWarning: invalid value encountered in true_divide\n",
      "  return (a - mns) / sstd\n",
      "/home/zoran/MyProjects/mindsdb-examples/mindsdb/lib/python3.7/site-packages/sklearn/neighbors/lof.py:253: UserWarning: n_neighbors (20) is greater than the total number of samples (3). n_neighbors will be set to (n_samples - 1) for estimation.\n",
      "  % (self.n_neighbors, n_samples))\n",
      "/home/zoran/MyProjects/mindsdb-examples/mindsdb/lib/python3.7/site-packages/sklearn/neighbors/lof.py:253: UserWarning: n_neighbors (20) is greater than the total number of samples (3). n_neighbors will be set to (n_samples - 1) for estimation.\n",
      "  % (self.n_neighbors, n_samples))\n",
      "/home/zoran/MyProjects/mindsdb-examples/mindsdb/lib/python3.7/site-packages/sklearn/neighbors/lof.py:253: UserWarning: n_neighbors (20) is greater than the total number of samples (3). n_neighbors will be set to (n_samples - 1) for estimation.\n",
      "  % (self.n_neighbors, n_samples))\n",
      "/home/zoran/MyProjects/mindsdb-examples/mindsdb/lib/python3.7/site-packages/sklearn/neighbors/lof.py:253: UserWarning: n_neighbors (20) is greater than the total number of samples (3). n_neighbors will be set to (n_samples - 1) for estimation.\n",
      "  % (self.n_neighbors, n_samples))\n",
      "/home/zoran/MyProjects/mindsdb-examples/mindsdb/lib/python3.7/site-packages/sklearn/neighbors/lof.py:253: UserWarning: n_neighbors (20) is greater than the total number of samples (3). n_neighbors will be set to (n_samples - 1) for estimation.\n",
      "  % (self.n_neighbors, n_samples))\n",
      "/home/zoran/MyProjects/mindsdb-examples/mindsdb/lib/python3.7/site-packages/scipy/stats/stats.py:2315: RuntimeWarning: invalid value encountered in true_divide\n",
      "  return (a - mns) / sstd\n",
      "/home/zoran/MyProjects/mindsdb-examples/mindsdb/lib/python3.7/site-packages/sklearn/neighbors/lof.py:253: UserWarning: n_neighbors (20) is greater than the total number of samples (3). n_neighbors will be set to (n_samples - 1) for estimation.\n",
      "  % (self.n_neighbors, n_samples))\n",
      "/home/zoran/MyProjects/mindsdb-examples/mindsdb/lib/python3.7/site-packages/scipy/stats/stats.py:2315: RuntimeWarning: invalid value encountered in true_divide\n",
      "  return (a - mns) / sstd\n",
      "/home/zoran/MyProjects/mindsdb-examples/mindsdb/lib/python3.7/site-packages/sklearn/neighbors/lof.py:253: UserWarning: n_neighbors (20) is greater than the total number of samples (3). n_neighbors will be set to (n_samples - 1) for estimation.\n",
      "  % (self.n_neighbors, n_samples))\n",
      "/home/zoran/MyProjects/mindsdb-examples/mindsdb/lib/python3.7/site-packages/sklearn/neighbors/lof.py:253: UserWarning: n_neighbors (20) is greater than the total number of samples (3). n_neighbors will be set to (n_samples - 1) for estimation.\n",
      "  % (self.n_neighbors, n_samples))\n",
      "/home/zoran/MyProjects/mindsdb-examples/mindsdb/lib/python3.7/site-packages/sklearn/neighbors/lof.py:253: UserWarning: n_neighbors (20) is greater than the total number of samples (3). n_neighbors will be set to (n_samples - 1) for estimation.\n",
      "  % (self.n_neighbors, n_samples))\n",
      "/home/zoran/MyProjects/mindsdb-examples/mindsdb/lib/python3.7/site-packages/sklearn/neighbors/lof.py:253: UserWarning: n_neighbors (20) is greater than the total number of samples (3). n_neighbors will be set to (n_samples - 1) for estimation.\n",
      "  % (self.n_neighbors, n_samples))\n",
      "/home/zoran/MyProjects/mindsdb-examples/mindsdb/lib/python3.7/site-packages/sklearn/neighbors/lof.py:253: UserWarning: n_neighbors (20) is greater than the total number of samples (3). n_neighbors will be set to (n_samples - 1) for estimation.\n",
      "  % (self.n_neighbors, n_samples))\n"
     ]
    },
    {
     "name": "stdout",
     "output_type": "stream",
     "text": [
      "Can't disable output on Jupyter notebook\n",
      "Can't disable output on Jupyter notebook\n",
      "Can't disable output on Jupyter notebook\n"
     ]
    },
    {
     "name": "stderr",
     "output_type": "stream",
     "text": [
      "/home/zoran/MyProjects/mindsdb-examples/mindsdb/lib/python3.7/site-packages/scipy/stats/stats.py:2315: RuntimeWarning: invalid value encountered in true_divide\n",
      "  return (a - mns) / sstd\n",
      "/home/zoran/MyProjects/mindsdb-examples/mindsdb/lib/python3.7/site-packages/sklearn/neighbors/lof.py:253: UserWarning: n_neighbors (20) is greater than the total number of samples (2). n_neighbors will be set to (n_samples - 1) for estimation.\n",
      "  % (self.n_neighbors, n_samples))\n",
      "/home/zoran/MyProjects/mindsdb-examples/mindsdb/lib/python3.7/site-packages/scipy/stats/stats.py:2315: RuntimeWarning: invalid value encountered in true_divide\n",
      "  return (a - mns) / sstd\n",
      "/home/zoran/MyProjects/mindsdb-examples/mindsdb/lib/python3.7/site-packages/sklearn/neighbors/lof.py:253: UserWarning: n_neighbors (20) is greater than the total number of samples (2). n_neighbors will be set to (n_samples - 1) for estimation.\n",
      "  % (self.n_neighbors, n_samples))\n",
      "/home/zoran/MyProjects/mindsdb-examples/mindsdb/lib/python3.7/site-packages/sklearn/neighbors/lof.py:253: UserWarning: n_neighbors (20) is greater than the total number of samples (2). n_neighbors will be set to (n_samples - 1) for estimation.\n",
      "  % (self.n_neighbors, n_samples))\n",
      "/home/zoran/MyProjects/mindsdb-examples/mindsdb/lib/python3.7/site-packages/sklearn/neighbors/lof.py:253: UserWarning: n_neighbors (20) is greater than the total number of samples (2). n_neighbors will be set to (n_samples - 1) for estimation.\n",
      "  % (self.n_neighbors, n_samples))\n",
      "/home/zoran/MyProjects/mindsdb-examples/mindsdb/lib/python3.7/site-packages/sklearn/neighbors/lof.py:253: UserWarning: n_neighbors (20) is greater than the total number of samples (2). n_neighbors will be set to (n_samples - 1) for estimation.\n",
      "  % (self.n_neighbors, n_samples))\n",
      "/home/zoran/MyProjects/mindsdb-examples/mindsdb/lib/python3.7/site-packages/sklearn/neighbors/lof.py:253: UserWarning: n_neighbors (20) is greater than the total number of samples (2). n_neighbors will be set to (n_samples - 1) for estimation.\n",
      "  % (self.n_neighbors, n_samples))\n"
     ]
    },
    {
     "name": "stdout",
     "output_type": "stream",
     "text": [
      "Can't disable output on Jupyter notebook\n",
      "Can't disable output on Jupyter notebook\n",
      "Can't disable output on Jupyter notebook\n",
      "Can't disable output on Jupyter notebook\n",
      "Can't disable output on Jupyter notebook\n",
      "Can't disable output on Jupyter notebook\n"
     ]
    },
    {
     "name": "stderr",
     "output_type": "stream",
     "text": [
      "/home/zoran/MyProjects/mindsdb-examples/mindsdb/lib/python3.7/site-packages/scipy/stats/stats.py:2315: RuntimeWarning: invalid value encountered in true_divide\n",
      "  return (a - mns) / sstd\n",
      "/home/zoran/MyProjects/mindsdb-examples/mindsdb/lib/python3.7/site-packages/sklearn/neighbors/lof.py:253: UserWarning: n_neighbors (20) is greater than the total number of samples (1). n_neighbors will be set to (n_samples - 1) for estimation.\n",
      "  % (self.n_neighbors, n_samples))\n"
     ]
    },
    {
     "name": "stdout",
     "output_type": "stream",
     "text": [
      "Can't disable output on Jupyter notebook\n",
      "Can't disable output on Jupyter notebook\n",
      "Can't disable output on Jupyter notebook\n"
     ]
    },
    {
     "name": "stderr",
     "output_type": "stream",
     "text": [
      "/home/zoran/MyProjects/mindsdb-examples/mindsdb/lib/python3.7/site-packages/sklearn/neighbors/lof.py:253: UserWarning: n_neighbors (20) is greater than the total number of samples (3). n_neighbors will be set to (n_samples - 1) for estimation.\n",
      "  % (self.n_neighbors, n_samples))\n",
      "/home/zoran/MyProjects/mindsdb-examples/mindsdb/lib/python3.7/site-packages/scipy/stats/stats.py:2315: RuntimeWarning: invalid value encountered in true_divide\n",
      "  return (a - mns) / sstd\n",
      "/home/zoran/MyProjects/mindsdb-examples/mindsdb/lib/python3.7/site-packages/sklearn/neighbors/lof.py:253: UserWarning: n_neighbors (20) is greater than the total number of samples (3). n_neighbors will be set to (n_samples - 1) for estimation.\n",
      "  % (self.n_neighbors, n_samples))\n",
      "/home/zoran/MyProjects/mindsdb-examples/mindsdb/lib/python3.7/site-packages/sklearn/neighbors/lof.py:253: UserWarning: n_neighbors (20) is greater than the total number of samples (3). n_neighbors will be set to (n_samples - 1) for estimation.\n",
      "  % (self.n_neighbors, n_samples))\n",
      "/home/zoran/MyProjects/mindsdb-examples/mindsdb/lib/python3.7/site-packages/sklearn/neighbors/lof.py:253: UserWarning: n_neighbors (20) is greater than the total number of samples (3). n_neighbors will be set to (n_samples - 1) for estimation.\n",
      "  % (self.n_neighbors, n_samples))\n",
      "/home/zoran/MyProjects/mindsdb-examples/mindsdb/lib/python3.7/site-packages/sklearn/neighbors/lof.py:253: UserWarning: n_neighbors (20) is greater than the total number of samples (3). n_neighbors will be set to (n_samples - 1) for estimation.\n",
      "  % (self.n_neighbors, n_samples))\n",
      "/home/zoran/MyProjects/mindsdb-examples/mindsdb/lib/python3.7/site-packages/sklearn/neighbors/lof.py:253: UserWarning: n_neighbors (20) is greater than the total number of samples (3). n_neighbors will be set to (n_samples - 1) for estimation.\n",
      "  % (self.n_neighbors, n_samples))\n",
      "/home/zoran/MyProjects/mindsdb-examples/mindsdb/lib/python3.7/site-packages/scipy/stats/stats.py:2315: RuntimeWarning: invalid value encountered in true_divide\n",
      "  return (a - mns) / sstd\n",
      "/home/zoran/MyProjects/mindsdb-examples/mindsdb/lib/python3.7/site-packages/sklearn/neighbors/lof.py:253: UserWarning: n_neighbors (20) is greater than the total number of samples (4). n_neighbors will be set to (n_samples - 1) for estimation.\n",
      "  % (self.n_neighbors, n_samples))\n",
      "/home/zoran/MyProjects/mindsdb-examples/mindsdb/lib/python3.7/site-packages/scipy/stats/stats.py:2315: RuntimeWarning: invalid value encountered in true_divide\n",
      "  return (a - mns) / sstd\n",
      "/home/zoran/MyProjects/mindsdb-examples/mindsdb/lib/python3.7/site-packages/sklearn/neighbors/lof.py:253: UserWarning: n_neighbors (20) is greater than the total number of samples (4). n_neighbors will be set to (n_samples - 1) for estimation.\n",
      "  % (self.n_neighbors, n_samples))\n",
      "/home/zoran/MyProjects/mindsdb-examples/mindsdb/lib/python3.7/site-packages/sklearn/neighbors/lof.py:253: UserWarning: n_neighbors (20) is greater than the total number of samples (4). n_neighbors will be set to (n_samples - 1) for estimation.\n",
      "  % (self.n_neighbors, n_samples))\n",
      "/home/zoran/MyProjects/mindsdb-examples/mindsdb/lib/python3.7/site-packages/sklearn/neighbors/lof.py:253: UserWarning: n_neighbors (20) is greater than the total number of samples (4). n_neighbors will be set to (n_samples - 1) for estimation.\n",
      "  % (self.n_neighbors, n_samples))\n",
      "/home/zoran/MyProjects/mindsdb-examples/mindsdb/lib/python3.7/site-packages/sklearn/neighbors/lof.py:253: UserWarning: n_neighbors (20) is greater than the total number of samples (4). n_neighbors will be set to (n_samples - 1) for estimation.\n",
      "  % (self.n_neighbors, n_samples))\n",
      "/home/zoran/MyProjects/mindsdb-examples/mindsdb/lib/python3.7/site-packages/sklearn/neighbors/lof.py:253: UserWarning: n_neighbors (20) is greater than the total number of samples (4). n_neighbors will be set to (n_samples - 1) for estimation.\n",
      "  % (self.n_neighbors, n_samples))\n"
     ]
    },
    {
     "name": "stdout",
     "output_type": "stream",
     "text": [
      "Can't disable output on Jupyter notebook\n",
      "Can't disable output on Jupyter notebook\n",
      "Can't disable output on Jupyter notebook\n",
      "Can't disable output on Jupyter notebook\n",
      "Can't disable output on Jupyter notebook\n",
      "Can't disable output on Jupyter notebook\n"
     ]
    },
    {
     "name": "stderr",
     "output_type": "stream",
     "text": [
      "/home/zoran/MyProjects/mindsdb-examples/mindsdb/lib/python3.7/site-packages/scipy/stats/stats.py:2315: RuntimeWarning: invalid value encountered in true_divide\n",
      "  return (a - mns) / sstd\n",
      "/home/zoran/MyProjects/mindsdb-examples/mindsdb/lib/python3.7/site-packages/sklearn/neighbors/lof.py:253: UserWarning: n_neighbors (20) is greater than the total number of samples (1). n_neighbors will be set to (n_samples - 1) for estimation.\n",
      "  % (self.n_neighbors, n_samples))\n"
     ]
    },
    {
     "name": "stdout",
     "output_type": "stream",
     "text": [
      "Can't disable output on Jupyter notebook\n",
      "Can't disable output on Jupyter notebook\n",
      "Can't disable output on Jupyter notebook\n"
     ]
    },
    {
     "name": "stderr",
     "output_type": "stream",
     "text": [
      "/home/zoran/MyProjects/mindsdb-examples/mindsdb/lib/python3.7/site-packages/scipy/stats/stats.py:2315: RuntimeWarning: invalid value encountered in true_divide\n",
      "  return (a - mns) / sstd\n",
      "/home/zoran/MyProjects/mindsdb-examples/mindsdb/lib/python3.7/site-packages/sklearn/neighbors/lof.py:253: UserWarning: n_neighbors (20) is greater than the total number of samples (2). n_neighbors will be set to (n_samples - 1) for estimation.\n",
      "  % (self.n_neighbors, n_samples))\n",
      "/home/zoran/MyProjects/mindsdb-examples/mindsdb/lib/python3.7/site-packages/scipy/stats/stats.py:2315: RuntimeWarning: invalid value encountered in true_divide\n",
      "  return (a - mns) / sstd\n",
      "/home/zoran/MyProjects/mindsdb-examples/mindsdb/lib/python3.7/site-packages/sklearn/neighbors/lof.py:253: UserWarning: n_neighbors (20) is greater than the total number of samples (2). n_neighbors will be set to (n_samples - 1) for estimation.\n",
      "  % (self.n_neighbors, n_samples))\n",
      "/home/zoran/MyProjects/mindsdb-examples/mindsdb/lib/python3.7/site-packages/sklearn/neighbors/lof.py:253: UserWarning: n_neighbors (20) is greater than the total number of samples (2). n_neighbors will be set to (n_samples - 1) for estimation.\n",
      "  % (self.n_neighbors, n_samples))\n",
      "/home/zoran/MyProjects/mindsdb-examples/mindsdb/lib/python3.7/site-packages/sklearn/neighbors/lof.py:253: UserWarning: n_neighbors (20) is greater than the total number of samples (2). n_neighbors will be set to (n_samples - 1) for estimation.\n",
      "  % (self.n_neighbors, n_samples))\n",
      "/home/zoran/MyProjects/mindsdb-examples/mindsdb/lib/python3.7/site-packages/sklearn/neighbors/lof.py:253: UserWarning: n_neighbors (20) is greater than the total number of samples (2). n_neighbors will be set to (n_samples - 1) for estimation.\n",
      "  % (self.n_neighbors, n_samples))\n",
      "/home/zoran/MyProjects/mindsdb-examples/mindsdb/lib/python3.7/site-packages/sklearn/neighbors/lof.py:253: UserWarning: n_neighbors (20) is greater than the total number of samples (2). n_neighbors will be set to (n_samples - 1) for estimation.\n",
      "  % (self.n_neighbors, n_samples))\n"
     ]
    },
    {
     "name": "stdout",
     "output_type": "stream",
     "text": [
      "Can't disable output on Jupyter notebook\n",
      "Can't disable output on Jupyter notebook\n",
      "Can't disable output on Jupyter notebook\n"
     ]
    },
    {
     "name": "stderr",
     "output_type": "stream",
     "text": [
      "/home/zoran/MyProjects/mindsdb-examples/mindsdb/lib/python3.7/site-packages/scipy/stats/stats.py:2315: RuntimeWarning: invalid value encountered in true_divide\n",
      "  return (a - mns) / sstd\n",
      "/home/zoran/MyProjects/mindsdb-examples/mindsdb/lib/python3.7/site-packages/sklearn/neighbors/lof.py:253: UserWarning: n_neighbors (20) is greater than the total number of samples (1). n_neighbors will be set to (n_samples - 1) for estimation.\n",
      "  % (self.n_neighbors, n_samples))\n"
     ]
    },
    {
     "name": "stdout",
     "output_type": "stream",
     "text": [
      "Can't disable output on Jupyter notebook\n",
      "Can't disable output on Jupyter notebook\n",
      "Can't disable output on Jupyter notebook\n"
     ]
    },
    {
     "name": "stderr",
     "output_type": "stream",
     "text": [
      "/home/zoran/MyProjects/mindsdb-examples/mindsdb/lib/python3.7/site-packages/scipy/stats/stats.py:2315: RuntimeWarning: invalid value encountered in true_divide\n",
      "  return (a - mns) / sstd\n",
      "/home/zoran/MyProjects/mindsdb-examples/mindsdb/lib/python3.7/site-packages/sklearn/neighbors/lof.py:253: UserWarning: n_neighbors (20) is greater than the total number of samples (2). n_neighbors will be set to (n_samples - 1) for estimation.\n",
      "  % (self.n_neighbors, n_samples))\n",
      "/home/zoran/MyProjects/mindsdb-examples/mindsdb/lib/python3.7/site-packages/scipy/stats/stats.py:2315: RuntimeWarning: invalid value encountered in true_divide\n",
      "  return (a - mns) / sstd\n",
      "/home/zoran/MyProjects/mindsdb-examples/mindsdb/lib/python3.7/site-packages/sklearn/neighbors/lof.py:253: UserWarning: n_neighbors (20) is greater than the total number of samples (2). n_neighbors will be set to (n_samples - 1) for estimation.\n",
      "  % (self.n_neighbors, n_samples))\n",
      "/home/zoran/MyProjects/mindsdb-examples/mindsdb/lib/python3.7/site-packages/sklearn/neighbors/lof.py:253: UserWarning: n_neighbors (20) is greater than the total number of samples (2). n_neighbors will be set to (n_samples - 1) for estimation.\n",
      "  % (self.n_neighbors, n_samples))\n",
      "/home/zoran/MyProjects/mindsdb-examples/mindsdb/lib/python3.7/site-packages/sklearn/neighbors/lof.py:253: UserWarning: n_neighbors (20) is greater than the total number of samples (2). n_neighbors will be set to (n_samples - 1) for estimation.\n",
      "  % (self.n_neighbors, n_samples))\n",
      "/home/zoran/MyProjects/mindsdb-examples/mindsdb/lib/python3.7/site-packages/sklearn/neighbors/lof.py:253: UserWarning: n_neighbors (20) is greater than the total number of samples (2). n_neighbors will be set to (n_samples - 1) for estimation.\n",
      "  % (self.n_neighbors, n_samples))\n",
      "/home/zoran/MyProjects/mindsdb-examples/mindsdb/lib/python3.7/site-packages/sklearn/neighbors/lof.py:253: UserWarning: n_neighbors (20) is greater than the total number of samples (2). n_neighbors will be set to (n_samples - 1) for estimation.\n",
      "  % (self.n_neighbors, n_samples))\n"
     ]
    },
    {
     "name": "stdout",
     "output_type": "stream",
     "text": [
      "Can't disable output on Jupyter notebook\n",
      "Can't disable output on Jupyter notebook\n",
      "Can't disable output on Jupyter notebook\n"
     ]
    },
    {
     "name": "stderr",
     "output_type": "stream",
     "text": [
      "/home/zoran/MyProjects/mindsdb-examples/mindsdb/lib/python3.7/site-packages/scipy/stats/stats.py:2315: RuntimeWarning: invalid value encountered in true_divide\n",
      "  return (a - mns) / sstd\n",
      "/home/zoran/MyProjects/mindsdb-examples/mindsdb/lib/python3.7/site-packages/sklearn/neighbors/lof.py:253: UserWarning: n_neighbors (20) is greater than the total number of samples (1). n_neighbors will be set to (n_samples - 1) for estimation.\n",
      "  % (self.n_neighbors, n_samples))\n"
     ]
    },
    {
     "name": "stdout",
     "output_type": "stream",
     "text": [
      "Can't disable output on Jupyter notebook\n",
      "Can't disable output on Jupyter notebook\n",
      "Can't disable output on Jupyter notebook\n"
     ]
    },
    {
     "name": "stderr",
     "output_type": "stream",
     "text": [
      "/home/zoran/MyProjects/mindsdb-examples/mindsdb/lib/python3.7/site-packages/sklearn/neighbors/lof.py:253: UserWarning: n_neighbors (20) is greater than the total number of samples (3). n_neighbors will be set to (n_samples - 1) for estimation.\n",
      "  % (self.n_neighbors, n_samples))\n",
      "/home/zoran/MyProjects/mindsdb-examples/mindsdb/lib/python3.7/site-packages/sklearn/neighbors/lof.py:253: UserWarning: n_neighbors (20) is greater than the total number of samples (3). n_neighbors will be set to (n_samples - 1) for estimation.\n",
      "  % (self.n_neighbors, n_samples))\n",
      "/home/zoran/MyProjects/mindsdb-examples/mindsdb/lib/python3.7/site-packages/sklearn/neighbors/lof.py:253: UserWarning: n_neighbors (20) is greater than the total number of samples (3). n_neighbors will be set to (n_samples - 1) for estimation.\n",
      "  % (self.n_neighbors, n_samples))\n",
      "/home/zoran/MyProjects/mindsdb-examples/mindsdb/lib/python3.7/site-packages/sklearn/neighbors/lof.py:253: UserWarning: n_neighbors (20) is greater than the total number of samples (3). n_neighbors will be set to (n_samples - 1) for estimation.\n",
      "  % (self.n_neighbors, n_samples))\n",
      "/home/zoran/MyProjects/mindsdb-examples/mindsdb/lib/python3.7/site-packages/sklearn/neighbors/lof.py:253: UserWarning: n_neighbors (20) is greater than the total number of samples (3). n_neighbors will be set to (n_samples - 1) for estimation.\n",
      "  % (self.n_neighbors, n_samples))\n",
      "/home/zoran/MyProjects/mindsdb-examples/mindsdb/lib/python3.7/site-packages/sklearn/neighbors/lof.py:253: UserWarning: n_neighbors (20) is greater than the total number of samples (3). n_neighbors will be set to (n_samples - 1) for estimation.\n",
      "  % (self.n_neighbors, n_samples))\n"
     ]
    },
    {
     "name": "stdout",
     "output_type": "stream",
     "text": [
      "Can't disable output on Jupyter notebook\n",
      "Can't disable output on Jupyter notebook\n",
      "Can't disable output on Jupyter notebook\n"
     ]
    },
    {
     "name": "stderr",
     "output_type": "stream",
     "text": [
      "/home/zoran/MyProjects/mindsdb-examples/mindsdb/lib/python3.7/site-packages/scipy/stats/stats.py:2315: RuntimeWarning: invalid value encountered in true_divide\n",
      "  return (a - mns) / sstd\n",
      "/home/zoran/MyProjects/mindsdb-examples/mindsdb/lib/python3.7/site-packages/sklearn/neighbors/lof.py:253: UserWarning: n_neighbors (20) is greater than the total number of samples (1). n_neighbors will be set to (n_samples - 1) for estimation.\n",
      "  % (self.n_neighbors, n_samples))\n"
     ]
    },
    {
     "name": "stdout",
     "output_type": "stream",
     "text": [
      "Can't disable output on Jupyter notebook\n",
      "Can't disable output on Jupyter notebook\n",
      "Can't disable output on Jupyter notebook\n"
     ]
    },
    {
     "name": "stderr",
     "output_type": "stream",
     "text": [
      "/home/zoran/MyProjects/mindsdb-examples/mindsdb/lib/python3.7/site-packages/scipy/stats/stats.py:2315: RuntimeWarning: invalid value encountered in true_divide\n",
      "  return (a - mns) / sstd\n",
      "/home/zoran/MyProjects/mindsdb-examples/mindsdb/lib/python3.7/site-packages/sklearn/neighbors/lof.py:253: UserWarning: n_neighbors (20) is greater than the total number of samples (1). n_neighbors will be set to (n_samples - 1) for estimation.\n",
      "  % (self.n_neighbors, n_samples))\n"
     ]
    },
    {
     "name": "stdout",
     "output_type": "stream",
     "text": [
      "Can't disable output on Jupyter notebook\n",
      "Can't disable output on Jupyter notebook\n",
      "Can't disable output on Jupyter notebook\n"
     ]
    },
    {
     "name": "stderr",
     "output_type": "stream",
     "text": [
      "/home/zoran/MyProjects/mindsdb-examples/mindsdb/lib/python3.7/site-packages/scipy/stats/stats.py:2315: RuntimeWarning: invalid value encountered in true_divide\n",
      "  return (a - mns) / sstd\n",
      "/home/zoran/MyProjects/mindsdb-examples/mindsdb/lib/python3.7/site-packages/sklearn/neighbors/lof.py:253: UserWarning: n_neighbors (20) is greater than the total number of samples (1). n_neighbors will be set to (n_samples - 1) for estimation.\n",
      "  % (self.n_neighbors, n_samples))\n"
     ]
    },
    {
     "name": "stdout",
     "output_type": "stream",
     "text": [
      "Can't disable output on Jupyter notebook\n",
      "Can't disable output on Jupyter notebook\n",
      "Can't disable output on Jupyter notebook\n"
     ]
    },
    {
     "name": "stderr",
     "output_type": "stream",
     "text": [
      "/home/zoran/MyProjects/mindsdb-examples/mindsdb/lib/python3.7/site-packages/scipy/stats/stats.py:2315: RuntimeWarning: invalid value encountered in true_divide\n",
      "  return (a - mns) / sstd\n",
      "/home/zoran/MyProjects/mindsdb-examples/mindsdb/lib/python3.7/site-packages/sklearn/neighbors/lof.py:253: UserWarning: n_neighbors (20) is greater than the total number of samples (1). n_neighbors will be set to (n_samples - 1) for estimation.\n",
      "  % (self.n_neighbors, n_samples))\n"
     ]
    },
    {
     "name": "stdout",
     "output_type": "stream",
     "text": [
      "Can't disable output on Jupyter notebook\n",
      "Can't disable output on Jupyter notebook\n",
      "Can't disable output on Jupyter notebook\n"
     ]
    },
    {
     "name": "stderr",
     "output_type": "stream",
     "text": [
      "/home/zoran/MyProjects/mindsdb-examples/mindsdb/lib/python3.7/site-packages/scipy/stats/stats.py:2315: RuntimeWarning: invalid value encountered in true_divide\n",
      "  return (a - mns) / sstd\n",
      "/home/zoran/MyProjects/mindsdb-examples/mindsdb/lib/python3.7/site-packages/sklearn/neighbors/lof.py:253: UserWarning: n_neighbors (20) is greater than the total number of samples (1). n_neighbors will be set to (n_samples - 1) for estimation.\n",
      "  % (self.n_neighbors, n_samples))\n"
     ]
    },
    {
     "name": "stdout",
     "output_type": "stream",
     "text": [
      "Can't disable output on Jupyter notebook\n",
      "Can't disable output on Jupyter notebook\n",
      "Can't disable output on Jupyter notebook\n"
     ]
    },
    {
     "name": "stderr",
     "output_type": "stream",
     "text": [
      "/home/zoran/MyProjects/mindsdb-examples/mindsdb/lib/python3.7/site-packages/scipy/stats/stats.py:2315: RuntimeWarning: invalid value encountered in true_divide\n",
      "  return (a - mns) / sstd\n",
      "/home/zoran/MyProjects/mindsdb-examples/mindsdb/lib/python3.7/site-packages/sklearn/neighbors/lof.py:253: UserWarning: n_neighbors (20) is greater than the total number of samples (1). n_neighbors will be set to (n_samples - 1) for estimation.\n",
      "  % (self.n_neighbors, n_samples))\n",
      "/home/zoran/MyProjects/mindsdb-examples/mindsdb/lib/python3.7/site-packages/scipy/stats/stats.py:2315: RuntimeWarning: invalid value encountered in true_divide\n",
      "  return (a - mns) / sstd\n",
      "/home/zoran/MyProjects/mindsdb-examples/mindsdb/lib/python3.7/site-packages/sklearn/neighbors/lof.py:253: UserWarning: n_neighbors (20) is greater than the total number of samples (1). n_neighbors will be set to (n_samples - 1) for estimation.\n",
      "  % (self.n_neighbors, n_samples))\n"
     ]
    },
    {
     "name": "stdout",
     "output_type": "stream",
     "text": [
      "Can't disable output on Jupyter notebook\n",
      "Can't disable output on Jupyter notebook\n",
      "Can't disable output on Jupyter notebook\n",
      "INFO:tensorflow:Restoring parameters from /home/zoran/MyProjects/mindsdb-examples/mindsdb/lib/python3.7/site-packages/mindsdb_storage/1_2_9/home_rentals_ludwig_data/model/model_weights\n"
     ]
    },
    {
     "name": "stderr",
     "output_type": "stream",
     "text": [
      "/home/zoran/MyProjects/mindsdb-examples/mindsdb/lib/python3.7/site-packages/ludwig/features/numerical_feature.py:63: FutureWarning: Method .as_matrix will be removed in a future version. Use .values instead.\n",
      "  np.float32).as_matrix()\n",
      "INFO:tensorflow:Restoring parameters from /home/zoran/MyProjects/mindsdb-examples/mindsdb/lib/python3.7/site-packages/mindsdb_storage/1_2_9/home_rentals_ludwig_data/model/model_weights\n"
     ]
    },
    {
     "name": "stdout",
     "output_type": "stream",
     "text": [
      "Can't disable output on Jupyter notebook\n",
      "Can't disable output on Jupyter notebook\n",
      "Can't disable output on Jupyter notebook\n",
      "INFO:tensorflow:Restoring parameters from /home/zoran/MyProjects/mindsdb-examples/mindsdb/lib/python3.7/site-packages/mindsdb_storage/1_2_9/home_rentals_ludwig_data/model/model_weights\n"
     ]
    },
    {
     "name": "stderr",
     "output_type": "stream",
     "text": [
      "INFO:tensorflow:Restoring parameters from /home/zoran/MyProjects/mindsdb-examples/mindsdb/lib/python3.7/site-packages/mindsdb_storage/1_2_9/home_rentals_ludwig_data/model/model_weights\n"
     ]
    },
    {
     "name": "stdout",
     "output_type": "stream",
     "text": [
      "Can't disable output on Jupyter notebook\n",
      "Can't disable output on Jupyter notebook\n",
      "Can't disable output on Jupyter notebook\n",
      "INFO:tensorflow:Restoring parameters from /home/zoran/MyProjects/mindsdb-examples/mindsdb/lib/python3.7/site-packages/mindsdb_storage/1_2_9/home_rentals_ludwig_data/model/model_weights\n"
     ]
    },
    {
     "name": "stderr",
     "output_type": "stream",
     "text": [
      "INFO:tensorflow:Restoring parameters from /home/zoran/MyProjects/mindsdb-examples/mindsdb/lib/python3.7/site-packages/mindsdb_storage/1_2_9/home_rentals_ludwig_data/model/model_weights\n"
     ]
    },
    {
     "name": "stdout",
     "output_type": "stream",
     "text": [
      "Can't disable output on Jupyter notebook\n",
      "Can't disable output on Jupyter notebook\n",
      "Can't disable output on Jupyter notebook\n",
      "INFO:tensorflow:Restoring parameters from /home/zoran/MyProjects/mindsdb-examples/mindsdb/lib/python3.7/site-packages/mindsdb_storage/1_2_9/home_rentals_ludwig_data/model/model_weights\n"
     ]
    },
    {
     "name": "stderr",
     "output_type": "stream",
     "text": [
      "INFO:tensorflow:Restoring parameters from /home/zoran/MyProjects/mindsdb-examples/mindsdb/lib/python3.7/site-packages/mindsdb_storage/1_2_9/home_rentals_ludwig_data/model/model_weights\n"
     ]
    },
    {
     "name": "stdout",
     "output_type": "stream",
     "text": [
      "Can't disable output on Jupyter notebook\n",
      "Can't disable output on Jupyter notebook\n",
      "Can't disable output on Jupyter notebook\n",
      "INFO:tensorflow:Restoring parameters from /home/zoran/MyProjects/mindsdb-examples/mindsdb/lib/python3.7/site-packages/mindsdb_storage/1_2_9/home_rentals_ludwig_data/model/model_weights\n"
     ]
    },
    {
     "name": "stderr",
     "output_type": "stream",
     "text": [
      "INFO:tensorflow:Restoring parameters from /home/zoran/MyProjects/mindsdb-examples/mindsdb/lib/python3.7/site-packages/mindsdb_storage/1_2_9/home_rentals_ludwig_data/model/model_weights\n"
     ]
    },
    {
     "name": "stdout",
     "output_type": "stream",
     "text": [
      "Can't disable output on Jupyter notebook\n",
      "Can't disable output on Jupyter notebook\n",
      "Can't disable output on Jupyter notebook\n",
      "INFO:tensorflow:Restoring parameters from /home/zoran/MyProjects/mindsdb-examples/mindsdb/lib/python3.7/site-packages/mindsdb_storage/1_2_9/home_rentals_ludwig_data/model/model_weights\n"
     ]
    },
    {
     "name": "stderr",
     "output_type": "stream",
     "text": [
      "INFO:tensorflow:Restoring parameters from /home/zoran/MyProjects/mindsdb-examples/mindsdb/lib/python3.7/site-packages/mindsdb_storage/1_2_9/home_rentals_ludwig_data/model/model_weights\n"
     ]
    },
    {
     "name": "stdout",
     "output_type": "stream",
     "text": [
      "Can't disable output on Jupyter notebook\n",
      "Can't disable output on Jupyter notebook\n",
      "Can't disable output on Jupyter notebook\n",
      "INFO:tensorflow:Restoring parameters from /home/zoran/MyProjects/mindsdb-examples/mindsdb/lib/python3.7/site-packages/mindsdb_storage/1_2_9/home_rentals_ludwig_data/model/model_weights\n"
     ]
    },
    {
     "name": "stderr",
     "output_type": "stream",
     "text": [
      "INFO:tensorflow:Restoring parameters from /home/zoran/MyProjects/mindsdb-examples/mindsdb/lib/python3.7/site-packages/mindsdb_storage/1_2_9/home_rentals_ludwig_data/model/model_weights\n"
     ]
    },
    {
     "name": "stdout",
     "output_type": "stream",
     "text": [
      "Can't disable output on Jupyter notebook\n",
      "Can't disable output on Jupyter notebook\n",
      "Can't disable output on Jupyter notebook\n",
      "INFO:tensorflow:Restoring parameters from /home/zoran/MyProjects/mindsdb-examples/mindsdb/lib/python3.7/site-packages/mindsdb_storage/1_2_9/home_rentals_ludwig_data/model/model_weights\n"
     ]
    },
    {
     "name": "stderr",
     "output_type": "stream",
     "text": [
      "INFO:tensorflow:Restoring parameters from /home/zoran/MyProjects/mindsdb-examples/mindsdb/lib/python3.7/site-packages/mindsdb_storage/1_2_9/home_rentals_ludwig_data/model/model_weights\n"
     ]
    },
    {
     "name": "stdout",
     "output_type": "stream",
     "text": [
      "Can't disable output on Jupyter notebook\n"
     ]
    },
    {
     "name": "stderr",
     "output_type": "stream",
     "text": [
      "\u001b[32mINFO:mindsdb-logger-a7ecf5e8-aa4c-11e9-848c-f0d5bfaec0a9:libs/phases/base_module.py:57 - '[END] ModelAnalyzer, execution time: 33.280 seconds'\u001b[0m\n"
     ]
    }
   ],
   "source": [
    "import mindsdb\n",
    "\n",
    "# Instantiate a mindsdb Predictor\n",
    "mdb = mindsdb.Predictor(name='home_rentals')\n",
    "\n",
    "# We tell the Predictor what column or key we want to learn and from what data\n",
    "mdb.learn(\n",
    "    from_data=\"home_rentals.csv\", # the path to the file where we can learn from, (note: can be url)\n",
    "    to_predict='rental_price', # the column we want to learn to predict given all the data in the file\n",
    ")"
   ]
  },
  {
   "cell_type": "code",
   "execution_count": 7,
   "metadata": {},
   "outputs": [
    {
     "name": "stderr",
     "output_type": "stream",
     "text": [
      "\u001b[32mINFO:mindsdb-logger-core-logger:libs/phases/base_module.py:52 - '[START] DataExtractor'\u001b[0m\n",
      "\u001b[32mINFO:mindsdb-logger-core-logger:libs/phases/base_module.py:57 - '[END] DataExtractor, execution time: 0.236 seconds'\u001b[0m\n",
      "\u001b[32mINFO:mindsdb-logger-core-logger:libs/phases/base_module.py:52 - '[START] DataTransformer'\u001b[0m\n",
      "\u001b[32mINFO:mindsdb-logger-core-logger:libs/phases/base_module.py:57 - '[END] DataTransformer, execution time: 0.061 seconds'\u001b[0m\n",
      "\u001b[32mINFO:mindsdb-logger-core-logger:libs/phases/base_module.py:52 - '[START] ModelInterface'\u001b[0m\n"
     ]
    },
    {
     "name": "stdout",
     "output_type": "stream",
     "text": [
      "Can't disable output on Jupyter notebook\n",
      "Can't disable output on Jupyter notebook\n"
     ]
    },
    {
     "name": "stderr",
     "output_type": "stream",
     "text": [
      "\u001b[33mWARNING:mindsdb-logger-core-logger:libs/helpers/general_helpers.py:134 - 'could not check for MindsDB updates'\u001b[0m\n"
     ]
    },
    {
     "name": "stdout",
     "output_type": "stream",
     "text": [
      "INFO:tensorflow:Restoring parameters from /home/zoran/MyProjects/mindsdb-examples/mindsdb/lib/python3.7/site-packages/mindsdb_storage/1_2_9/home_rentals_ludwig_data/model/model_weights\n"
     ]
    },
    {
     "name": "stderr",
     "output_type": "stream",
     "text": [
      "/home/zoran/MyProjects/mindsdb-examples/mindsdb/lib/python3.7/site-packages/ludwig/features/numerical_feature.py:63: FutureWarning: Method .as_matrix will be removed in a future version. Use .values instead.\n",
      "  np.float32).as_matrix()\n",
      "INFO:tensorflow:Restoring parameters from /home/zoran/MyProjects/mindsdb-examples/mindsdb/lib/python3.7/site-packages/mindsdb_storage/1_2_9/home_rentals_ludwig_data/model/model_weights\n",
      "\u001b[32mINFO:mindsdb-logger-core-logger:libs/phases/base_module.py:57 - '[END] ModelInterface, execution time: 1.164 seconds'\u001b[0m\n"
     ]
    },
    {
     "name": "stdout",
     "output_type": "stream",
     "text": [
      "Can't disable output on Jupyter notebook\n",
      "The predicted price is $38.46574783325195 with 0.02005107842149585 confidence\n"
     ]
    }
   ],
   "source": [
    "# use the model to make predictions\n",
    "mdb_predict = mindsdb.Predictor(name='home_rentals')\n",
    "result = mdb_predict.predict(when={'number_of_rooms': 2,'number_of_bathrooms':1, 'sqft': 1190})\n",
    "\n",
    "# you can now print the results\n",
    "print('The predicted price is ${price} with {conf} confidence'.format(price=result[0]['rental_price'], conf=result[0]['rental_price_confidence']))"
   ]
  },
  {
   "cell_type": "code",
   "execution_count": null,
   "metadata": {},
   "outputs": [],
   "source": []
  }
 ],
 "metadata": {
  "kernelspec": {
   "display_name": "Python 3",
   "language": "python",
   "name": "python3"
  },
  "language_info": {
   "codemirror_mode": {
    "name": "ipython",
    "version": 3
   },
   "file_extension": ".py",
   "mimetype": "text/x-python",
   "name": "python",
   "nbconvert_exporter": "python",
   "pygments_lexer": "ipython3",
   "version": "3.7.3"
  }
 },
 "nbformat": 4,
 "nbformat_minor": 2
}
