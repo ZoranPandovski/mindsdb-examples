{
 "cells": [
  {
   "cell_type": "code",
   "execution_count": 4,
   "metadata": {},
   "outputs": [],
   "source": [
    "#!pip install ludwig\n",
    "import pandas as pd\n",
    "from ludwig.utils.data_utils import add_sequence_feature_column"
   ]
  },
  {
   "cell_type": "code",
   "execution_count": 5,
   "metadata": {},
   "outputs": [],
   "source": [
    "df = pd.read_csv('../dataset/temperature.csv', usecols=['Los Angeles']).rename(columns={\"Los Angeles\": \"temperature\"}).fillna(\n",
    "    method='backfill').fillna(method='ffill')"
   ]
  },
  {
   "cell_type": "code",
   "execution_count": 6,
   "metadata": {},
   "outputs": [],
   "source": [
    "# normalize\n",
    "df.temperature = ((df.temperature - df.temperature.mean()) / df.temperature.std())"
   ]
  },
  {
   "cell_type": "code",
   "execution_count": 7,
   "metadata": {},
   "outputs": [],
   "source": [
    "train_size = 44556\n",
    "\n",
    "\n",
    "# train, test split\n",
    "df['split'] = 0\n",
    "df.loc[(df.index.values >= train_size),('split')] = 1"
   ]
  },
  {
   "cell_type": "code",
   "execution_count": 8,
   "metadata": {},
   "outputs": [],
   "source": [
    "# prepare timeseries input feature colum\n",
    "# (here we are using 20 preceeding values to predict the target)\n",
    "add_sequence_feature_column(df, 'temperature', 20)"
   ]
  },
  {
   "cell_type": "code",
   "execution_count": 9,
   "metadata": {},
   "outputs": [],
   "source": [
    "train = df.loc[df['split'] == 0, :]\n",
    "test = df.loc[df['split'] == 1, :]"
   ]
  },
  {
   "cell_type": "code",
   "execution_count": 11,
   "metadata": {},
   "outputs": [
    {
     "data": {
      "text/html": [
       "<div>\n",
       "<style scoped>\n",
       "    .dataframe tbody tr th:only-of-type {\n",
       "        vertical-align: middle;\n",
       "    }\n",
       "\n",
       "    .dataframe tbody tr th {\n",
       "        vertical-align: top;\n",
       "    }\n",
       "\n",
       "    .dataframe thead th {\n",
       "        text-align: right;\n",
       "    }\n",
       "</style>\n",
       "<table border=\"1\" class=\"dataframe\">\n",
       "  <thead>\n",
       "    <tr style=\"text-align: right;\">\n",
       "      <th></th>\n",
       "      <th>temperature</th>\n",
       "      <th>split</th>\n",
       "      <th>temperature_feature</th>\n",
       "    </tr>\n",
       "  </thead>\n",
       "  <tbody>\n",
       "    <tr>\n",
       "      <th>44556</th>\n",
       "      <td>0.322594</td>\n",
       "      <td>1</td>\n",
       "      <td>0.056374449671736764 0.03470545643014934 0.022...</td>\n",
       "    </tr>\n",
       "    <tr>\n",
       "      <th>44557</th>\n",
       "      <td>0.192580</td>\n",
       "      <td>1</td>\n",
       "      <td>0.03470545643014934 0.022323174577814933 -0.01...</td>\n",
       "    </tr>\n",
       "    <tr>\n",
       "      <th>44558</th>\n",
       "      <td>0.064113</td>\n",
       "      <td>1</td>\n",
       "      <td>0.022323174577814933 -0.013275885747656393 -0....</td>\n",
       "    </tr>\n",
       "    <tr>\n",
       "      <th>44559</th>\n",
       "      <td>0.002202</td>\n",
       "      <td>1</td>\n",
       "      <td>-0.013275885747656393 -0.03649266422078451 -0....</td>\n",
       "    </tr>\n",
       "    <tr>\n",
       "      <th>44560</th>\n",
       "      <td>-0.047327</td>\n",
       "      <td>1</td>\n",
       "      <td>-0.03649266422078451 -0.04732716084157822 -0.0...</td>\n",
       "    </tr>\n",
       "  </tbody>\n",
       "</table>\n",
       "</div>"
      ],
      "text/plain": [
       "       temperature  split                                temperature_feature\n",
       "44556     0.322594      1  0.056374449671736764 0.03470545643014934 0.022...\n",
       "44557     0.192580      1  0.03470545643014934 0.022323174577814933 -0.01...\n",
       "44558     0.064113      1  0.022323174577814933 -0.013275885747656393 -0....\n",
       "44559     0.002202      1  -0.013275885747656393 -0.03649266422078451 -0....\n",
       "44560    -0.047327      1  -0.03649266422078451 -0.04732716084157822 -0.0..."
      ]
     },
     "execution_count": 11,
     "metadata": {},
     "output_type": "execute_result"
    }
   ],
   "source": [
    "test.head()"
   ]
  },
  {
   "cell_type": "code",
   "execution_count": 12,
   "metadata": {},
   "outputs": [],
   "source": [
    "#df.to_csv('../dataset/temperature_la.csv')\n",
    "train.to_csv('../dataset/train.csv', header=True, index=False)\n",
    "test.to_csv('../dataset/test.csv', header=True, index=False)"
   ]
  },
  {
   "cell_type": "code",
   "execution_count": null,
   "metadata": {},
   "outputs": [],
   "source": []
  }
 ],
 "metadata": {
  "kernelspec": {
   "display_name": "Python 3",
   "language": "python",
   "name": "python3"
  },
  "language_info": {
   "codemirror_mode": {
    "name": "ipython",
    "version": 3
   },
   "file_extension": ".py",
   "mimetype": "text/x-python",
   "name": "python",
   "nbconvert_exporter": "python",
   "pygments_lexer": "ipython3",
   "version": "3.7.4"
  }
 },
 "nbformat": 4,
 "nbformat_minor": 2
}
